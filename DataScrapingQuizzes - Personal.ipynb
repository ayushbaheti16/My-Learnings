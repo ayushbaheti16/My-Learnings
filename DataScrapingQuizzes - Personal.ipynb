{
 "cells": [
  {
   "cell_type": "code",
   "execution_count": 1,
   "metadata": {},
   "outputs": [],
   "source": [
    "import pandas as pd\n",
    "import urllib.request\n",
    "import bs4"
   ]
  },
  {
   "cell_type": "markdown",
   "metadata": {},
   "source": [
    "### Reading Users"
   ]
  },
  {
   "cell_type": "code",
   "execution_count": 2,
   "metadata": {},
   "outputs": [
    {
     "data": {
      "text/html": [
       "<div>\n",
       "<style scoped>\n",
       "    .dataframe tbody tr th:only-of-type {\n",
       "        vertical-align: middle;\n",
       "    }\n",
       "\n",
       "    .dataframe tbody tr th {\n",
       "        vertical-align: top;\n",
       "    }\n",
       "\n",
       "    .dataframe thead th {\n",
       "        text-align: right;\n",
       "    }\n",
       "</style>\n",
       "<table border=\"1\" class=\"dataframe\">\n",
       "  <thead>\n",
       "    <tr style=\"text-align: right;\">\n",
       "      <th></th>\n",
       "      <th>user_id</th>\n",
       "      <th>age</th>\n",
       "      <th>sex</th>\n",
       "      <th>occupation</th>\n",
       "      <th>zip_code</th>\n",
       "    </tr>\n",
       "  </thead>\n",
       "  <tbody>\n",
       "    <tr>\n",
       "      <th>0</th>\n",
       "      <td>1</td>\n",
       "      <td>24</td>\n",
       "      <td>M</td>\n",
       "      <td>technician</td>\n",
       "      <td>85711</td>\n",
       "    </tr>\n",
       "    <tr>\n",
       "      <th>1</th>\n",
       "      <td>2</td>\n",
       "      <td>53</td>\n",
       "      <td>F</td>\n",
       "      <td>other</td>\n",
       "      <td>94043</td>\n",
       "    </tr>\n",
       "    <tr>\n",
       "      <th>2</th>\n",
       "      <td>3</td>\n",
       "      <td>23</td>\n",
       "      <td>M</td>\n",
       "      <td>writer</td>\n",
       "      <td>32067</td>\n",
       "    </tr>\n",
       "    <tr>\n",
       "      <th>3</th>\n",
       "      <td>4</td>\n",
       "      <td>24</td>\n",
       "      <td>M</td>\n",
       "      <td>technician</td>\n",
       "      <td>43537</td>\n",
       "    </tr>\n",
       "    <tr>\n",
       "      <th>4</th>\n",
       "      <td>5</td>\n",
       "      <td>33</td>\n",
       "      <td>F</td>\n",
       "      <td>other</td>\n",
       "      <td>15213</td>\n",
       "    </tr>\n",
       "  </tbody>\n",
       "</table>\n",
       "</div>"
      ],
      "text/plain": [
       "   user_id  age sex  occupation zip_code\n",
       "0        1   24   M  technician    85711\n",
       "1        2   53   F       other    94043\n",
       "2        3   23   M      writer    32067\n",
       "3        4   24   M  technician    43537\n",
       "4        5   33   F       other    15213"
      ]
     },
     "execution_count": 2,
     "metadata": {},
     "output_type": "execute_result"
    }
   ],
   "source": [
    "users = pd.read_csv('http://files.grouplens.org/datasets/movielens/ml-100k/u.user', header=None, sep='|',\n",
    "           names=[\"user_id\", \"age\", \"sex\", \"occupation\", \"zip_code\"])\n",
    "users.head()"
   ]
  },
  {
   "cell_type": "markdown",
   "metadata": {},
   "source": [
    "### Reading Ratings\n"
   ]
  },
  {
   "cell_type": "code",
   "execution_count": 3,
   "metadata": {},
   "outputs": [
    {
     "data": {
      "text/html": [
       "<div>\n",
       "<style scoped>\n",
       "    .dataframe tbody tr th:only-of-type {\n",
       "        vertical-align: middle;\n",
       "    }\n",
       "\n",
       "    .dataframe tbody tr th {\n",
       "        vertical-align: top;\n",
       "    }\n",
       "\n",
       "    .dataframe thead th {\n",
       "        text-align: right;\n",
       "    }\n",
       "</style>\n",
       "<table border=\"1\" class=\"dataframe\">\n",
       "  <thead>\n",
       "    <tr style=\"text-align: right;\">\n",
       "      <th></th>\n",
       "      <th>user_id</th>\n",
       "      <th>movie_id</th>\n",
       "      <th>rating</th>\n",
       "      <th>unix_timestamp</th>\n",
       "    </tr>\n",
       "  </thead>\n",
       "  <tbody>\n",
       "    <tr>\n",
       "      <th>0</th>\n",
       "      <td>196</td>\n",
       "      <td>242</td>\n",
       "      <td>3</td>\n",
       "      <td>881250949</td>\n",
       "    </tr>\n",
       "    <tr>\n",
       "      <th>1</th>\n",
       "      <td>186</td>\n",
       "      <td>302</td>\n",
       "      <td>3</td>\n",
       "      <td>891717742</td>\n",
       "    </tr>\n",
       "    <tr>\n",
       "      <th>2</th>\n",
       "      <td>22</td>\n",
       "      <td>377</td>\n",
       "      <td>1</td>\n",
       "      <td>878887116</td>\n",
       "    </tr>\n",
       "    <tr>\n",
       "      <th>3</th>\n",
       "      <td>244</td>\n",
       "      <td>51</td>\n",
       "      <td>2</td>\n",
       "      <td>880606923</td>\n",
       "    </tr>\n",
       "    <tr>\n",
       "      <th>4</th>\n",
       "      <td>166</td>\n",
       "      <td>346</td>\n",
       "      <td>1</td>\n",
       "      <td>886397596</td>\n",
       "    </tr>\n",
       "  </tbody>\n",
       "</table>\n",
       "</div>"
      ],
      "text/plain": [
       "   user_id  movie_id  rating  unix_timestamp\n",
       "0      196       242       3       881250949\n",
       "1      186       302       3       891717742\n",
       "2       22       377       1       878887116\n",
       "3      244        51       2       880606923\n",
       "4      166       346       1       886397596"
      ]
     },
     "execution_count": 3,
     "metadata": {},
     "output_type": "execute_result"
    }
   ],
   "source": [
    "ratings = pd.read_csv('http://files.grouplens.org/datasets/movielens/ml-100k/u.data', header=None, sep='\\t', \n",
    "                     names = [\"user_id\",\"movie_id\",\"rating\", \"unix_timestamp\"])\n",
    "ratings.head()"
   ]
  },
  {
   "cell_type": "markdown",
   "metadata": {},
   "source": [
    "### let's only load the first five columns of the file with usecols"
   ]
  },
  {
   "cell_type": "code",
   "execution_count": 4,
   "metadata": {},
   "outputs": [
    {
     "data": {
      "text/html": [
       "<div>\n",
       "<style scoped>\n",
       "    .dataframe tbody tr th:only-of-type {\n",
       "        vertical-align: middle;\n",
       "    }\n",
       "\n",
       "    .dataframe tbody tr th {\n",
       "        vertical-align: top;\n",
       "    }\n",
       "\n",
       "    .dataframe thead th {\n",
       "        text-align: right;\n",
       "    }\n",
       "</style>\n",
       "<table border=\"1\" class=\"dataframe\">\n",
       "  <thead>\n",
       "    <tr style=\"text-align: right;\">\n",
       "      <th></th>\n",
       "      <th>movie_id</th>\n",
       "      <th>title</th>\n",
       "      <th>release_date</th>\n",
       "      <th>video_release_date</th>\n",
       "      <th>imdb_url</th>\n",
       "    </tr>\n",
       "  </thead>\n",
       "  <tbody>\n",
       "    <tr>\n",
       "      <th>0</th>\n",
       "      <td>1</td>\n",
       "      <td>Toy Story (1995)</td>\n",
       "      <td>01-Jan-1995</td>\n",
       "      <td>NaN</td>\n",
       "      <td>http://us.imdb.com/M/title-exact?Toy%20Story%2...</td>\n",
       "    </tr>\n",
       "    <tr>\n",
       "      <th>1</th>\n",
       "      <td>2</td>\n",
       "      <td>GoldenEye (1995)</td>\n",
       "      <td>01-Jan-1995</td>\n",
       "      <td>NaN</td>\n",
       "      <td>http://us.imdb.com/M/title-exact?GoldenEye%20(...</td>\n",
       "    </tr>\n",
       "    <tr>\n",
       "      <th>2</th>\n",
       "      <td>3</td>\n",
       "      <td>Four Rooms (1995)</td>\n",
       "      <td>01-Jan-1995</td>\n",
       "      <td>NaN</td>\n",
       "      <td>http://us.imdb.com/M/title-exact?Four%20Rooms%...</td>\n",
       "    </tr>\n",
       "    <tr>\n",
       "      <th>3</th>\n",
       "      <td>4</td>\n",
       "      <td>Get Shorty (1995)</td>\n",
       "      <td>01-Jan-1995</td>\n",
       "      <td>NaN</td>\n",
       "      <td>http://us.imdb.com/M/title-exact?Get%20Shorty%...</td>\n",
       "    </tr>\n",
       "    <tr>\n",
       "      <th>4</th>\n",
       "      <td>5</td>\n",
       "      <td>Copycat (1995)</td>\n",
       "      <td>01-Jan-1995</td>\n",
       "      <td>NaN</td>\n",
       "      <td>http://us.imdb.com/M/title-exact?Copycat%20(1995)</td>\n",
       "    </tr>\n",
       "  </tbody>\n",
       "</table>\n",
       "</div>"
      ],
      "text/plain": [
       "   movie_id              title release_date  video_release_date  \\\n",
       "0         1   Toy Story (1995)  01-Jan-1995                 NaN   \n",
       "1         2   GoldenEye (1995)  01-Jan-1995                 NaN   \n",
       "2         3  Four Rooms (1995)  01-Jan-1995                 NaN   \n",
       "3         4  Get Shorty (1995)  01-Jan-1995                 NaN   \n",
       "4         5     Copycat (1995)  01-Jan-1995                 NaN   \n",
       "\n",
       "                                            imdb_url  \n",
       "0  http://us.imdb.com/M/title-exact?Toy%20Story%2...  \n",
       "1  http://us.imdb.com/M/title-exact?GoldenEye%20(...  \n",
       "2  http://us.imdb.com/M/title-exact?Four%20Rooms%...  \n",
       "3  http://us.imdb.com/M/title-exact?Get%20Shorty%...  \n",
       "4  http://us.imdb.com/M/title-exact?Copycat%20(1995)  "
      ]
     },
     "execution_count": 4,
     "metadata": {},
     "output_type": "execute_result"
    }
   ],
   "source": [
    "movies_col = ['movie_id', 'title', 'release_date', \n",
    "            'video_release_date', 'imdb_url']\n",
    "\n",
    "movies = pd.read_csv('http://files.grouplens.org/datasets/movielens/ml-100k/u.item', \n",
    "    sep='|', names=movies_col, usecols=range(5), encoding='cp1252')\n",
    "\n",
    "movies.head()"
   ]
  },
  {
   "cell_type": "code",
   "execution_count": 5,
   "metadata": {},
   "outputs": [
    {
     "name": "stdout",
     "output_type": "stream",
     "text": [
      "movie_id                int64\n",
      "title                  object\n",
      "release_date           object\n",
      "video_release_date    float64\n",
      "imdb_url               object\n",
      "dtype: object\n",
      "\n",
      "          movie_id  video_release_date\n",
      "count  1682.000000                 0.0\n",
      "mean    841.500000                 NaN\n",
      "std     485.695893                 NaN\n",
      "min       1.000000                 NaN\n",
      "25%     421.250000                 NaN\n",
      "50%     841.500000                 NaN\n",
      "75%    1261.750000                 NaN\n",
      "max    1682.000000                 NaN\n"
     ]
    }
   ],
   "source": [
    "print (movies.dtypes)\n",
    "print()\n",
    "print (movies.describe())"
   ]
  },
  {
   "cell_type": "markdown",
   "metadata": {},
   "source": [
    "### Get the average ratings grouped by movie id's"
   ]
  },
  {
   "cell_type": "code",
   "execution_count": 6,
   "metadata": {},
   "outputs": [
    {
     "data": {
      "text/plain": [
       "movie_id\n",
       "1    3.878319\n",
       "2    3.206107\n",
       "3    3.033333\n",
       "4    3.550239\n",
       "5    3.302326\n",
       "Name: rating, dtype: float64"
      ]
     },
     "execution_count": 6,
     "metadata": {},
     "output_type": "execute_result"
    }
   ],
   "source": [
    "avg_rating_group = ratings['rating'].groupby(ratings.movie_id)\n",
    "\n",
    "## average and combine\n",
    "\n",
    "avg_rating = avg_rating_group.mean()\n",
    "avg_rating.head()\n"
   ]
  },
  {
   "cell_type": "markdown",
   "metadata": {},
   "source": [
    "<hr>\n",
    "# Web Scraping"
   ]
  },
  {
   "cell_type": "code",
   "execution_count": 7,
   "metadata": {},
   "outputs": [
    {
     "name": "stdout",
     "output_type": "stream",
     "text": [
      "b'\\r\\n\\r\\n<!DOCTYPE html>\\r\\n<html xmlns:vcom xmlns:fb>\\r\\n<head>\\t\\r\\n\\t<title>abhor - Dictionary Definition : Vocabulary.com</title>\\r\\n\\t<meta name=\"viewport\" content=\"width=device-width, initial-scale=1.0, maximum-scale=1.0\" />\\r\\n    <meta name=\"description\" content=\"If you abhor something, it gives you a feeling of complete hatred. Chances are you abhor that kid who used to torture the frogs in biology class.\" />\\r\\n \\t<meta name=\"robots\" content=\"noarchive\" />\\r\\n \\t<meta name=\"googlebot\" content=\"noodp, noarchive\" />\\r\\n\\r\\n\\t<meta property=\"og:title\" content=\"abhor - Dictionary Definition\"/>\\r\\n    <meta property=\"og:site_name\" content=\"Vocabulary.com\" />\\r\\n    <meta property=\"og:type\" content=\"article\" />\\r\\n    <meta property=\"og:image\" content=\"https://www.vocabulary.com/images/icons/facebook-75x75.gif\" />    \\r\\n    <meta property=\"og:description\" content=\"If you abhor something, it gives you a feeling of complete hatred. Chances are you abhor that kid who used to torture the frogs in biology class.\"/>\\r\\n    \\r\\n    \\r\\n \\r\\n\\t<link rel=\"search\" type=\"application/opensearchdescription+xml\" href=\"/search.xml\" title=\"Vocabulary.com\" />    \\r\\n\\t<link href=\"//cdn.vocab.com/images/ios-icons/114x114-off5pn.png\" rel=\"apple-touch-icon\" >\\r\\n\\t<link href=\"//cdn.vocab.com/images/favicons/favicon-32x32-2frmtt.png\" sizes=\"32x32\" rel=\"icon\" type=\"image/png\" >\\r\\n\\t<link href=\"//cdn.vocab.com/images/favicons/favicon-16x16-uf6i7e.png\" sizes=\"16x16\" rel=\"icon\" type=\"image/png\" >\\r\\n\\r\\n\\t\\r\\n\\t<link href=\"//fonts.googleapis.com/css?family=Open+Sans:300italic,400italic,600italic,700italic,800italic,400,300,600,700,800\" rel=\"stylesheet\" type=\"text/css\">\\r\\n\\t<link href=\"//cdn.vocab.com/css/3/header-1ixqou4.css\" rel=\"stylesheet\" type=\"text/css\" >\\r\\n\\t<link href=\"//cdn.vocab.com/css/3/main-i8ft4p.css\" rel=\"stylesheet\" type=\"text/css\" >\\r\\n\\t<link href=\"//cdn.vocab.com/css/3/grids-1tyqegb.css\" rel=\"stylesheet\" type=\"text/css\" >\\r\\n\\t\\r\\n\\t<link href=\"//cdn.vocab.com/css/progress-zjqx3f.css\" rel=\"stylesheet\" type=\"text/css\" >\\r\\n\\t<link href=\"//cdn.vocab.com/css/dictionary-rlnzej.css\" rel=\"stylesheet\" type=\"text/css\" >\\r\\n\\t<link href=\"//cdn.vocab.com/css/achievements-goaje8.css\" rel=\"stylesheet\" type=\"text/css\" >\\r\\n\\t<link href=\"//cdn.vocab.com/css/leaderboards-1o1bbc9.css\" rel=\"stylesheet\" type=\"text/css\" >\\r\\n\\t\\r\\n\\t<link href=\"//cdn.vocab.com/css/fonts/ss-social-circle-1708mdo.css\" rel=\"stylesheet\" type=\"text/css\" >\\t\\r\\n\\t<link href=\"//cdn.vocab.com/css/fonts/ss-symbolicons-block-1u3l0c5.css\" rel=\"stylesheet\" type=\"text/css\" >\\r\\n\\t<link href=\"//cdn.vocab.com/css/fonts/ss-standard-1nx9nw2.css\" rel=\"stylesheet\" type=\"text/css\" >\\t\\r\\n\\t\\t\\r\\n\\t<style> body { overflow-y: scroll; }</style>\\r\\n\\t\\t\\t\\r\\n\\t\\r\\n\\t<script>\\r\\n\\t\\twindow.VCOM=(window.VCOM=function(){(VCOM.q=VCOM.q||[]).push(arguments)});\\r\\n\\t\\twindow.VCOM.__api_server = \"https://api.vocab.com\";\\r\\n\\t</script>\\r\\n\\t\\r\\n\\t\\r\\n\\t\\r\\n\\r\\n<script src=\"//cdn.vocab.com/js/module-nx5s3w.js\" type=\"text/javascript\" ></script>\\r\\n\\t<script type=\"text/javascript\" async>\\n(function() {\\n    \\t var elem = document.createElement(\\'script\\');\\n    \\t    elem.src = \\'https://quantcast.mgr.consensu.org/cmp.js\\';\\n    \\t    elem.async = true;\\n    \\t    elem.type = \"text/javascript\";\\n    \\t    var scpt = document.getElementsByTagName(\\'script\\')[0];\\n    \\t    scpt.parentNode.insertBefore(elem, scpt);\\n    \\t    \\n    \\tvar gdprAppliesGlobally = false;\\n    function addFrame() {\\n        if (!window.frames[\\'__cmpLocator\\']) {\\n        if (document.body) {\\n            var body = document.body,\\n                iframe = document.createElement(\\'iframe\\');\\n            iframe.style = \\'display:none;\\';\\n            iframe.name = \\'__cmpLocator\\';\\n            body.appendChild(iframe);\\n        } else {\\n            // In the case where this stub is located in the head,\\n            // this allows us to inject the iframe more quickly than\\n            // relying on DOMContentLoaded or other events.\\n            setTimeout(addFrame, 5);\\n        }\\n        }\\n    }\\n    addFrame();\\n    function cmpMsgHandler(event) {\\n        var msgIsString = typeof event.data === \"string\";\\n        var json;\\n        if(msgIsString) {\\n        json = event.data.indexOf(\"__cmpCall\") != -1 ? JSON.parse(event.data) : {};\\n        } else {\\n        json = event.data;\\n        }\\n        if (json.__cmpCall) {\\n        var i = json.__cmpCall;\\n        window.__cmp(i.command, i.parameter, function(retValue, success) {\\n            var returnMsg = {\"__cmpReturn\": {\\n            \"returnValue\": retValue,\\n            \"success\": success,\\n            \"callId\": i.callId\\n            }};\\n            event.source.postMessage(msgIsString ?\\n            JSON.stringify(returnMsg) : returnMsg, \\'*\\');\\n        });\\n        }\\n    }\\n    window.__cmp = function (c) {\\n        var b = arguments;\\n        if (!b.length) {\\n        return __cmp.a;\\n        }\\n        else if (b[0] === \\'ping\\') {\\n        b[2]({\"gdprAppliesGlobally\": gdprAppliesGlobally,\\n            \"cmpLoaded\": false}, true);\\n        } else if (c == \\'__cmp\\')\\n        return false;\\n        else {\\n        if (typeof __cmp.a === \\'undefined\\') {\\n            __cmp.a = [];\\n        }\\n        __cmp.a.push([].slice.apply(b));\\n        }\\n    }\\n    window.__cmp.gdprAppliesGlobally = gdprAppliesGlobally;\\n    window.__cmp.msgHandler = cmpMsgHandler;\\n    if (window.addEventListener) {\\n        window.addEventListener(\\'message\\', cmpMsgHandler, false);\\n    } else {\\n        window.attachEvent(\\'onmessage\\', cmpMsgHandler);\\n    }\\n    \\n    window.__cmp(\\'init\\', {\\n    \\t\\t\\'Language\\': \\'en\\',\\n\\t\\t\\'Initial Screen Reject Button Text\\': \\'I do not accept\\',\\n\\t\\t\\'Initial Screen Accept Button Text\\': \\'I accept\\',\\n\\t\\t\\'Purpose Screen Body Text\\': \\'You can set your consent preferences and determine how you want your data to be used based on the purposes below. You may set your preferences for us independently from those of third-party partners. Each purpose has a description so that you know how we and partners use your data.\\',\\n\\t\\t\\'Vendor Screen Body Text\\': \\'You can set consent preferences for each individual third-party company below. Expand each company list item to see what purposes they use data for to help make your choices. In some cases, companies may disclose that they use your data without asking for your consent, based on their legitimate interests. You can click on their privacy policies for more information and to opt out.\\',\\n\\t\\t\\'Vendor Screen Accept All Button Text\\': \\'Accept all\\',\\n\\t\\t\\'Vendor Screen Reject All Button Text\\': \\'Reject all\\',\\n\\t\\t\\'Publisher Name\\': \\'Vocabulary.com\\',\\n\\t\\t\\'Publisher Logo\\': \\'https://cdn.vocab.com/images/header/logo-1wobq9i.png\\',\\n\\t\\t\\'Min Days Between UI Displays\\': 120,\\n\\t\\t\\'Publisher Purpose IDs\\': [1,4,5],\\n\\t\\t\\'Post Consent Page\\': \\'https://help.vocabulary.com\\',\\n\\t\\t\\'No Option\\': false,\\n\\t\\t\\'Publisher Purpose Legitimate Interest IDs\\': [1,4,5],\\n\\t\\t\\'Display Persistent Consent Link\\' : false,\\n\\t\\t\\'Custom Links Displayed on Initial Screen\\': [\\t\"[Privacy Policy](https://www.vocabulary.com/privacy)\" ]\\n    });\\n\\t\\n    function addLink() {\\n\\t\\tModule.after([\\'jquery\\'],function(){\\t\\t\\t\\t\\n\\t\\t\\tjQuery(function($){\\n\\t\\t\\t\\t$(\\'a.privacy-settings\\').remove();\\n\\t\\t\\t\\t$(\\'<a class=\"privacy-settings\" href=\"javascript:void(0)\">Privacy Settings</a>\\').on(\\'click\\',showConsent).insertAfter(\\'nav.legal a[href=\"/privacy/\"]\\');\\t\\n\\t\\t\\t});\\n\\t\\t});\\n\\t}\\t\\t\\t\\t\\n\\tfunction showConsent() {\\n\\t\\t__cmp(\\'setConsentUiCallback\\', refesh);\\n\\t\\t__cmp(\\'displayConsentUi\\',2)\\n\\t}\\t\\t\\n\\t__cmp(\\'setConsentUiCallback\\', refesh);\\n\\tfunction refesh() {\\n\\t\\t__cmp(\\'getConsentData\\',null,function(data){ \\n\\t\\t\\tif (data.gdprApplies) addLink();\\t\\t\\t\\t\\n\\t\\t});\\n\\t}\\n\\t\\n})();\\n</script>\\n<style>\\n.qc-cmp-button {\\n        background-color: #4db538 !important;\\n        border-color: #4db538 !important;\\n      }\\n      .qc-cmp-button:hover {\\n        border-color: #4db538 !important;\\n      }\\n      .qc-cmp-alt-action,\\n      .qc-cmp-link {\\n        color: #4db538 !important;\\n      }\\n      .qc-cmp-button {\\n        color: #ffffff !important;\\n      }\\n      .qc-cmp-button.qc-cmp-secondary-button {\\n        color: #ffffff !important;\\n      }\\n      .qc-cmp-button.qc-cmp-button.qc-cmp-secondary-button:hover {\\n        color:#ffffff !important;\\n      }\\n      .qc-cmp-button.qc-cmp-secondary-button {\\n        border-color: #5d646c !important;\\n        background-color: transparent !important;\\n      }\\n      .qc-cmp-button.qc-cmp-secondary-button:hover {\\n        background-color: #5d646c !important;\\n      }\\n      .qc-cmp-ui,\\n      .qc-cmp-ui .qc-cmp-main-messaging,\\n      .qc-cmp-ui .qc-cmp-messaging,\\n      .qc-cmp-ui .qc-cmp-beta-messaging,\\n      .qc-cmp-ui .qc-cmp-title,\\n      .qc-cmp-ui .qc-cmp-sub-title,\\n      .qc-cmp-ui .qc-cmp-purpose-info,\\n      .qc-cmp-ui .qc-cmp-table,\\n      .qc-cmp-ui .qc-cmp-table-header,\\n      .qc-cmp-ui .qc-cmp-vendor-list,\\n      .qc-cmp-ui .qc-cmp-vendor-list-title {\\n          color: #ffffff !important;\\n      }\\n      .qc-cmp-ui a,\\n      .qc-cmp-ui .qc-cmp-alt-action {\\n        color: #ffffff !important;\\n      }\\n      .qc-cmp-ui {\\n          background-color: #3d4045 !important;\\n      }        \\n      .qc-cmp-title {\\n    font-size: 30px !important;\\n}        \\n      .qc-cmp-publisher-purposes-table .qc-cmp-table-header {\\n        background-color: transparent !important;\\n      }\\n      .qc-cmp-publisher-purposes-table .qc-cmp-table-row {\\n        background-color: transparent !important;\\n      }\\n      .qc-cmp-small-toggle.qc-cmp-toggle-on,\\n      .qc-cmp-toggle.qc-cmp-toggle-on {\\n          background-color: #4db538 !important;\\n          border-color: #4db538 !important;\\n      }\\n      .qc-cmp-toggle-status {\\n      \\tcolor: white !important;\\n      }\\n      .qc-cmp-table, .qc-cmp-table-row, .qc-cmp-vendor-list-container {\\n    border-color: rgba(255,255,255,.5) !important;\\n}\\n.qc-cmp-vendor-list-container {\\n    overflow: hidden !important;\\n    overflow-y: scroll !important;\\n}\\n.qc-cmp-nav-bar-publisher-logo {\\n    max-width: 120px !important;\\n}\\n#qc_choice_3pc_frame {\\n\\tdisplay: none;\\n}\\n\\n</style>\\r\\n\\t\\r\\n\\t<script>\\r\\n\\tModule.after([\\'vcom/base\\',\\'vcom/usermenu\\', \\'vcom/maintabs\\' ,\\'vcom/dicttab\\' ],function(){});\\r\\n\\t</script>\\r\\n\\t\\t\\r\\n\\t<script type=\"text/javascript\">\\t\\r\\n\\tvar noresults = false;\\t\\t\\r\\n\\t</script>\\r\\n\\t\\r\\n\\t<script>\\r\\n(function(){\\r\\n\\t\\r\\n\\tVCOM(\\'gdpr\\',function(){\\r\\n\\t\\tvar t = document.createElement(\\'script\\');\\r\\n\\t\\tt.async=true;\\r\\n\\t\\tt.src=\\'https://www.google-analytics.com/analytics.js\\';\\r\\n\\t\\tdocument.head.appendChild(t);\\r\\n\\t});\\r\\n\\t\\r\\n\\r\\n\\twindow.ga=window.ga||function(){(ga.q=ga.q||[]).push(arguments)};ga.l=+new Date;\\r\\n\\tga(\\'create\\', \\'UA-154986-6\\', \\'auto\\');\\t\\r\\n\\t\\r\\n\\tVCOM(\\'auth\\',function(auth){\\r\\n\\t\\tif (auth.validUser) {\\r\\n\\t\\t\\tga(\\'set\\',\\'dimension1\\',auth.paid?\\'paid\\':\\'free\\');\\r\\n\\t\\t\\tga(\\'set\\',\\'dimension2\\',auth.ima||\\'other\\');\\r\\n\\t\\t\\tvar role = (auth.auth && auth.auth.role) ? auth.auth.role.toLowerCase() : \"\";\\r\\n\\t\\t\\tif (role==\\'bill\\' && auth.plan) role = auth.plan;\\r\\n\\t\\t\\tif (role) ga(\\'set\\',\\'dimension3\\',role);\\r\\n\\t\\t\\tif (auth.classes && !auth.classes.empty)  ga(\\'set\\',\\'dimension4\\',\\'inclass\\');\\r\\n\\t\\t} else {\\r\\n\\t\\t\\tga(\\'set\\',\\'dimension1\\',\\'anon\\');\\t\\t\\t\\t\\t\\r\\n\\t\\t}\\r\\n\\t\\tga(\\'send\\', \\'pageview\\');\\r\\n\\r\\n\\t\\t\\r\\n\\t});\\t\\t\\r\\n})();\\r\\n</script>\\r\\n\\t\\r\\n</head>\\r\\n<body class=\"with-top-tab with-tab-dictionary top-section-none with-light-header\">\\r\\n<div class=\"body-wrapper\">\\r\\n<header class=\"page-header noselect\" role=\"banner\"><div class=\"limited-width\"><nav class=\"main\">\\r\\n\\t\\t<a href=\"/\" title=\"Vocabulary.com\" class=\"logo\" ><img src=\"//cdn.vocab.com/images/header/logo-1wobq9i.png\" alt=\"Vocabulary.com\" class=\"screen-only\" ><img src=\"//cdn.vocab.com/images/logo-sar2cf.svg\" class=\"print-only\" ></a>\\r\\n\\t\\t<div class=\"logininfo\"></div><button role=\"button\" aria-pressed=\"false\" aria-label=\"navigation menu\" class=\"hamburger menu\"><span class=\"rows\"></span></button></nav><nav class=\"tabs\"><ul  ><li title=\"Play Vocabulary.com\" class=\"playTab\"><a  href=\"/play/\"><span>PLAY</span></a></li><li title=\"Look up a word\" class=\"dictTab selected empty\"><a href=\"/dictionary/\"><span>LOOK UP</span></a><div class=\"wrapper\"><input id=\"search\" type=\"text\" autofocus spellcheck=\"false\" autocapitalize=\"off\" autocomplete=\"off\" autocorrect=\"off\" ><i role=\"button\" class=\"ss-delete\" ></i></div></li><li title=\"Find a Vocabulary List\" class=\"listsTab\"><a href=\"/lists/\"><span>LISTS</span></a></li></ul></nav></div></header>\\r\\n<div class=\"fixed-tray\"></div>\\r\\n<nav id=\"dictionaryNav\" class=\"topsubnav content-wrapper mobile-drop-down\" >\\r\\n\\t\\t\\t\\t<ul >\\r\\n\\t\\t\\t\\t<li class=\"selected\"><a title=\"Vocabulary.com Dictionary Home Page\" href=\"/dictionary/\" >Vocabulary.com Dictionary</a></li>\\r\\n\\t\\t\\t\\t<li ><a title=\"Show advanced search options\" href=\"#advsearch\">Advanced Search</a></li>\\r\\n\\t\\t\\t\\t<li ><a title=\"Open the vocabulary list builder\" href=\"#listbuilder\">List Builder</a></li>\\r\\n\\t\\t\\t\\t<li ><a title=\"Show a random vocabulary word\" href=\"/dictionary/randomword\">Random Word</a></li>\\t\\t\\t\\t\\r\\n\\t\\t\\t\\t</ul>\\r\\n</nav>\\r\\n\\r\\n<div id=\"page\" class=\"page\">\\r\\n<div id=\"pageContent\" class=\"pageContent clearfloat\">\\r\\n<div class=\"wordPage vocab blurbed clearfloat content-wrapper\" \\r\\n   data-lang=\"en\" data-word=\"abhor\"    \\r\\n   data-maxfilterlevel=\"0\"\\r\\n   data-learnable=\"true\" data-next=\"abhorrence\" data-prev=\"abeyance\"><div class=\"centeredContent\"><h1 class=\"dynamictext\">abhor<a data-audio=\"A/GX201BO9D04S\" class=\"audio\"></a></h1>\\r\\n\\t\\t\\t\\r\\n\\t\\t<div class=\"definitionsContainer\">\\t\\t\\r\\n\\t\\t\\r\\n\\t\\t<div class=\"main\">\\r\\n\\t\\t\\t\\t\\t\\t\\r\\n\\t\\t\\r\\n\\t\\t\\r\\n\\t\\t\\r\\n\\t\\t<div class=\"section blurb\">\\r\\n\\t\\t<p class=\"short\">If you <i>abhor</i> something, it gives you a feeling of complete hatred. Chances are you <i>abhor</i> that kid who used to torture the frogs in biology class.</p>\\r\\n\\t\\t\\t\\t\\r\\n\\t\\t\\r\\n\\t\\t<div class=\"adslot\" id=\"dictionary-upper-ad\" data-adunit=\"Dictionary-Result-Right\" data-dimensions=\"[[300, 250], [336, 280]]\"></div>\\r\\n\\t\\t\\r\\n\\t\\t\\r\\n\\t\\t\\r\\n\\t\\t\\r\\n\\t\\t<p class=\"long\"><i>Abhor</i> is from Latin <i>abhorrere</i> \\xe2\\x80\\x94 \"to shrink back in horror.\" It is the strongest way in English to express hatred, even stronger than <i>loathe</i>. We only use abhor in formal contexts; you might say \"I abhor that man,\" but you would be less likely to say \"I abhor spinach\" unless you tend to express yourself in highfalutin terms no matter what the occasion.</p>\\t\\t\\r\\n\\t\\t</div>\\t\\r\\n\\t\\t\\r\\n\\t\\t\\r\\n\\t\\t</div>\\r\\n\\t\\t\\r\\n\\t\\t\\r\\n\\t\\t<div class=\"section related nocontent robots-nocontent screen-only\">\\r\\n\\t\\t\\r\\n\\t\\t\\t\\r\\n\\t\\t\\r\\n\\t\\t<vcom:progress word=\"abhor\" ></vcom:progress>\\r\\n\\t\\t<vcom:qpreview word=\"abhor\" ></vcom:qpreview>\\r\\n\\t\\t\\r\\n\\t\\t\\r\\n\\t\\t\\t<div class=\"section tools\">\\t\\t\\t\\t\\t\\r\\n\\t\\t\\t\\t\\t<vcom:addtolist word=\"abhor\" lang=\"en\"></vcom:addtolist>\\t\\r\\n\\t\\t\\t\\t\\t<a href=\"https://www.visualthesaurus.com/app/view?word=abhor&lang=en\" \\r\\n\\t\\t\\t\\t\\t   class=\"button thesaurus hide-mobile\" \\r\\n\\t\\t\\t\\t\\t   target=\"vt\" \\r\\n\\t\\t\\t\\t\\t   title=\"View in the Visual Thesaurus\"><i></i>Thesaurus</a>\\r\\n\\t\\t\\t\\t\\t<vcom:share word=\"abhor\" />\\r\\n\\t\\t\\t</div>\\r\\n\\t\\t\\t\\r\\n\\t\\t\\r\\n\\t\\t\\r\\n\\t\\t<div class=\"adslot\" id=\"dictionary-upper-ad-right\" data-adunit=\"Dictionary-Result-Right\" data-dimensions=\"[[300, 250], [336, 280]]\"></div>\\t\\t\\t\\t\\r\\n\\t\\t</div>\\r\\n\\t\\t\\r\\n\\t\\t<div class=\"main\">\\r\\n\\t\\r\\n\\t\\t<div class=\"definitions\">\\r\\n\\t\\t\\r\\n\\t\\t\\t\\t\\t\\t\\r\\n\\t\\t\\t\\t\\r\\n\\t\\t\\t<div class=\"section definition\">\\t\\r\\n\\t\\t<div class=\"sectionHeader\">Definitions of <span class=\"word\">abhor</span></div>\\t\\r\\n\\t\\t\\r\\n\\t\\t\\r\\n\\t\\t\\r\\n\\t\\t\\r\\n\\t\\t \\t\\r\\n\\t\\t\\t\\t<!-- BEGIN GROUP --><div class=\"group\"><div class=\"groupNumber\">1</div>\\r\\n\\t\\t\\t\\t\\r\\n\\t\\t\\t\\t\\t<!-- BEGIN ORDINAL --><div class=\"ordinal first\">\\r\\n\\t\\t\\t\\t\\t\\r\\n\\t\\t\\t\\t\\t\\t\\r\\n\\t\\t\\t\\t\\t\\t<div class=\"sense pos_v ord1 sord1\" id=\"s90947\">\\r\\n\\t\\t\\t\\t\\t\\t<h3 class=\"definition\">\\r\\n\\t\\t\\t\\t\\t\\t    \\r\\n\\t\\t\\t\\t\\t\\t    <a title=\"verb\" name=\"s90947\" class=\"anchor\">v</a>\\r\\n\\t\\t\\t\\t\\t\\t    \\r\\n\\t\\t\\t\\t\\t\\t    \\r\\n\\t\\t\\t\\t\\t\\t     find repugnant</h3>\\r\\n\\t\\t\\t\\t\\t\\t<div class=\"defContent\">\\r\\n\\t\\t\\t\\t\\t\\t\\r\\n\\t\\t\\t\\t\\t\\t\\r\\n\\t\\t\\t\\t\\t\\t\\t<div class=\"example\">&#8220;She \\n<strong>abhors</strong> cats&#8221;</div>\\r\\n\\t\\t\\t\\t\\t\\t\\r\\n\\t\\t\\t\\t\\t\\t\\r\\n\\t\\t\\t\\t\\t\\t\\r\\n<dl class=\"instances\">\\r\\n<dt>Synonyms:</dt>\\r\\n\\r\\n\\r\\n\\r\\n\\r\\n\\r\\n<dd><a href=\"/dictionary/abominate\" class=\"word\">abominate</a>, <a href=\"/dictionary/execrate\" class=\"word\">execrate</a>, <a href=\"/dictionary/loathe\" class=\"word\">loathe</a></dd>\\r\\n\\r\\n\\r\\n\\r\\n\\r\\n\\r\\n\\t\\t\\t\\r\\n</dl>\\t\\t\\t\\r\\n\\r\\n\\t\\t\\t\\t\\t\\t\\r\\n\\t\\t\\t\\t\\t\\t\\r\\n\\t\\t\\t\\t\\t\\t\\r\\n\\t\\t\\t\\t\\t\\t\\r\\n\\t\\t\\t\\t\\t\\t\\r\\n\\t\\t\\t\\t\\t\\t\\r\\n\\t\\t\\t\\t\\t\\t\\r\\n\\t\\t\\t\\t\\t\\t\\r\\n\\t\\t\\t\\t\\t\\t\\r\\n\\t\\t\\t\\t\\t\\t\\r\\n\\t\\t\\t\\t\\t\\t\\t\\t\\r\\n\\t\\t\\t\\t\\t\\t\\r\\n\\t\\t\\t\\t\\t\\t\\r\\n\\t\\t\\t\\t\\t\\t\\r\\n\\t\\t\\t\\t\\t\\t\\r\\n\\t\\t\\t\\t\\t\\t\\r\\n\\t\\t\\t\\t\\t\\t\\r\\n\\t\\t\\t\\t\\t\\t\\t\\r\\n\\t\\t\\t\\t\\t\\t\\r\\n\\t\\t\\t\\t\\t\\t\\r\\n\\t\\t\\t\\t\\t\\t\\r\\n<dl class=\"instances\">\\r\\n<dt>Type of:</dt>\\r\\n\\r\\n\\r\\n\\r\\n\\r\\n\\r\\n\\r\\n\\r\\n<dd >\\r\\n<a href=\"/dictionary/detest\" class=\"word\">detest</a>, <a href=\"/dictionary/hate\" class=\"word\">hate</a>\\r\\n<div class=\"definition\">dislike intensely; feel antipathy or aversion towards</div>\\r\\n</dd>\\t\\t\\t\\r\\n\\r\\n\\r\\n\\r\\n\\r\\n\\r\\n\\r\\n\\t\\t\\t\\r\\n</dl>\\t\\t\\t\\r\\n\\t\\t\\t\\t\\r\\n\\t\\t\\t\\t\\t\\r\\n\\t\\t\\t\\t\\t\\t</div>\\r\\n\\t\\t\\t\\t\\t\\t</div>\\r\\n\\t\\t\\t\\t\\t\\t\\r\\n\\t\\t\\t\\t\\t\\t\\r\\n\\t\\t\\t\\t\\t\\r\\n\\t\\t\\t\\t\\t</div><!-- END ORDINAL -->\\r\\n\\t\\t\\t\\t\\r\\n\\t\\t\\t\\t</div><!-- END GROUP -->\\r\\n\\t\\t\\t\\r\\n\\t\\t\\r\\n\\t\\t\\r\\n\\t\\t\\r\\n\\t\\t\\r\\n\\t</div>\\r\\n\\t</div>\\t\\r\\n\\t\\t\\r\\n\\t</div>\\r\\n\\t\\t\\r\\n\\t<div class=\"section related nocontent robots-nocontent\">\\r\\n\\t\\t\\r\\n\\t\\t\\t\\r\\n\\t\\t\\r\\n\\t\\t\\r\\n\\t\\t\\r\\n\\t\\t\\t\\t\\r\\n\\t\\t\\r\\n\\t\\t\\r\\n\\t\\t\\r\\n\\t\\t<div class=\"section family\"><div class=\"sectionHeader\">Word Family</div> \\r\\n\\t\\t\\t<vcom:wordfamily lang=\"en\" word=\"abhor\" data=\"[{&#034;word&#034;:&#034;abhor&#034;,&#034;hw&#034;:true,&#034;freq&#034;:1.2731706856925007,&#034;ffreq&#034;:5.917773155241645,&#034;size&#034;:12,&#034;type&#034;:0},{&#034;word&#034;:&#034;abhorred&#034;,&#034;parent&#034;:&#034;abhor&#034;,&#034;freq&#034;:1.449492303780165,&#034;ffreq&#034;:1.449492303780165,&#034;size&#034;:1,&#034;type&#034;:1},{&#034;word&#034;:&#034;abhorrence&#034;,&#034;hw&#034;:true,&#034;parent&#034;:&#034;abhor&#034;,&#034;freq&#034;:1.804842973630544,&#034;ffreq&#034;:1.8085656949337383,&#034;size&#034;:2,&#034;type&#034;:3},{&#034;word&#034;:&#034;abhorrent&#034;,&#034;hw&#034;:true,&#034;parent&#034;:&#034;abhor&#034;,&#034;freq&#034;:0.7479285527327024,&#034;ffreq&#034;:0.7590967166422858,&#034;size&#034;:2,&#034;type&#034;:3},{&#034;word&#034;:&#034;abhorrer&#034;,&#034;hw&#034;:true,&#034;parent&#034;:&#034;abhor&#034;,&#034;freq&#034;:0.0060917257688636395,&#034;ffreq&#034;:0.01624460205030304,&#034;size&#034;:2,&#034;type&#034;:2},{&#034;word&#034;:&#034;abhorring&#034;,&#034;parent&#034;:&#034;abhor&#034;,&#034;freq&#034;:0.13807911742757584,&#034;ffreq&#034;:0.13807911742757584,&#034;size&#034;:1,&#034;type&#034;:1},{&#034;word&#034;:&#034;abhors&#034;,&#034;parent&#034;:&#034;abhor&#034;,&#034;freq&#034;:0.4697397426212629,&#034;ffreq&#034;:0.4697397426212629,&#034;size&#034;:1,&#034;type&#034;:1},{&#034;word&#034;:&#034;abhorrences&#034;,&#034;parent&#034;:&#034;abhorrence&#034;,&#034;freq&#034;:0.0037227213031944466,&#034;ffreq&#034;:0.0037227213031944466,&#034;size&#034;:1,&#034;type&#034;:1},{&#034;word&#034;:&#034;abhorrently&#034;,&#034;parent&#034;:&#034;abhorrent&#034;,&#034;freq&#034;:0.01116816390958334,&#034;ffreq&#034;:0.01116816390958334,&#034;size&#034;:1,&#034;type&#034;:1},{&#034;word&#034;:&#034;abhorrers&#034;,&#034;parent&#034;:&#034;abhorrer&#034;,&#034;freq&#034;:0.0101528762814394,&#034;ffreq&#034;:0.0101528762814394,&#034;size&#034;:1,&#034;type&#034;:1}]\"></vcom:wordfamily>\\r\\n\\t\\t</div>\\r\\n\\t\\t<div class=\"section examples\" ><div class=\"sectionHeader\">Usage Examples</div>\\r\\n\\t\\t\\t<vcom:examples lang=\"en\" word=\"abhor\" count=\"4\" filter=\"0\" ></vcom:examples>\\r\\n\\t\\t</div>\\t\\t\\t\\r\\n\\t\\t\\r\\n\\t\\t\\r\\n\\t\\t<div class=\"adslot\" id=\"dictionary-lower-ad\" data-adunit=\"Dictionary-Result-Lower-Right\" data-dimensions=\"[[300, 250], [336, 280]]\" data-lazy=\"true\" ></div>\\r\\n\\t\\t\\r\\n\\t</div>\\t\\r\\n\\r\\n\\t</div>\\t\\t\\r\\n</div></div>\\r\\n</div>\\r\\n</div>\\r\\n\\r\\n\\r\\n<section class=\"signup-tout center clearfloat sectionbg\">\\r\\n<div class=\"limited-width \">\\r\\n\\t<h2>Sign up, it\\'s free!</h2>\\r\\n\\t<div class=\"margin2 margin2r col8\" >\\r\\n\\t\\t<p>\\r\\n\\t\\tWhether you\\'re a student, an educator, or a lifelong learner, Vocabulary.com can put you\\r\\n\\t\\ton the path to systematic vocabulary improvement. <br>\\r\\n\\t\\t</p>\\r\\n\\t\\t\\r\\n\\t\\t<a role=\"button\" class=\"signup button green\" href=\"/signup/\">Get Started</a>\\r\\n\\t\\t\\r\\n\\t</div>\\r\\n</div>\\r\\n</section>\\r\\n\\r\\n\\r\\n<footer class=\"page-footer\">\\r\\n<nav class=\"sitelinks limited-width hide-mobile clearfloat screen-only\">\\r\\n\\t<div class=\"col2 \">\\r\\n\\t\\t\\t<h3>For Everyone</h3>\\r\\n\\t\\t\\t<ul>\\r\\n\\t\\t\\t<li><a href=\"/play/\">Play the Challenge</a></li>\\r\\n\\t\\t\\t<li><a href=\"/lists/\">Vocabulary Lists</a></li>\\r\\n\\t\\t\\t<li><a href=\"/dictionary/\">Dictionary</a></li>\\t\\t\\t\\t\\r\\n\\t\\t\\t<li><a href=\"/articles/chooseyourwords/\">Choose Your Words</a></li>\\t\\t\\t\\r\\n\\t\\t\\t</ul>\\t\\t\\t\\t\\r\\n\\t\\t</div>\\r\\n\\t\\t\\t\\r\\n\\t\\t<div class=\"col2 \">\\r\\n\\t\\t\\t<h3><a href=\"/educator-edition/\">For Educators</a></h3>\\r\\n\\t\\t\\t<ul>\\r\\n\\t\\t\\t<li><a href=\"/educator-edition/\">Educator Edition</a></li>\\t\\t\\r\\n\\t\\t\\t<li><a href=\"/educator-edition/pricing/\">Plans &amp; Pricing</a></li>\\r\\n\\t\\t\\t<li><a href=\"/educator-edition/sales/\">Contact Sales</a></li>\\r\\n\\t\\t\\t<li><a href=\"/educator-edition/success-stories/\">Success Stories</a></li>\\r\\n\\t\\t\\t</ul>\\t\\t\\t\\t\\r\\n\\t\\t</div>\\r\\n\\t\\t\\r\\n\\t\\t<div class=\"col2 \">\\r\\n\\t\\t\\t<h3><a href=\"/help/\">Help</a></h3>\\r\\n\\t\\t\\t<ul>\\r\\n\\t\\t\\t<li><a href=\"/help/\">Help Articles / FAQ</a></li>\\t\\t\\t\\r\\n\\t\\t\\t<!--  <li><a href=\"/help/videos/\">How-to Videos</a></li>-->\\r\\n\\t\\t\\t<li><a href=\"/help/webinars\">Training &amp; Webinars</a></li>\\t\\r\\n\\t\\t\\t<li><a href=\"/help/contactus\">Contact Support</a></li>\\r\\n\\t\\t\\t<li><a>&nbsp;</a></li>\\t\\r\\n\\t\\t\\t</ul>\\t\\t\\t\\t\\r\\n\\t\\t</div>\\r\\n\\t\\t\\t\\t\\t\\r\\n\\t\\t<div class=\"col2 \">\\r\\n\\t\\t\\t<h3><a href=\"/leaderboards/\">Leaderboards</a></h3>\\r\\n\\t\\t\\t<ul>\\r\\n\\t\\t\\t<li><a href=\"/bowl/\">Vocabulary Bowl</a></li>\\t\\r\\n\\t\\t\\t<li><a href=\"/leaderboards/bowl/\">Bowl Leaders</a></li>\\t\\t\\t\\t\\t\\r\\n\\t\\t\\t<li><a href=\"/leaderboards/today/\">Today\\'s Leaders</a></li>\\r\\n\\t\\t\\t<li><a href=\"/leaderboards/thisweek/\">Weekly Leaders</a></li>\\r\\n\\t\\t\\t<li><a href=\"/leaderboards/thismonth/\">Monthly Leaders</a></li>\\t\\t\\t\\t\\t\\t\\r\\n\\t\\t\\t</ul>\\t\\t\\t\\t\\t\\t\\r\\n\\t\\t</div>\\t\\r\\n\\t\\t\\t\\t\\r\\n\\t\\t<div class=\"col2 \">\\r\\n\\t\\t\\t<h3><a href=\"/blog/\">Connect</a></h3>\\r\\n\\t\\t\\t<ul>\\r\\n\\t\\t\\t<li><a href=\"/blog/\">Vocabulary.com Blog</a></li>\\r\\n\\t\\t\\t<li><a href=\"https://twitter.com/VocabularyCom\">Twitter</a></li>\\r\\n\\t\\t\\t<li><a href=\"https://www.facebook.com/vocabularycom\">Facebook</a></li>\\r\\n\\t\\t\\t\\r\\n\\t\\t\\t</ul>\\t\\t\\t\\t\\r\\n\\t\\t</div>\\r\\n\\t\\t\\r\\n\\t\\t<div class=\"col2 \">\\r\\n\\t\\t\\t<h3><a href=\"/about/\">Our Story</a></h3>\\r\\n\\t\\t\\t<ul>\\r\\n\\t\\t\\t<li><a href=\"/about/\">Our Mission</a></li>\\r\\n\\t\\t\\t<li><a href=\"/about/team/\">Team / Jobs</a></li>\\r\\n\\t\\t\\t<li><a href=\"/about/news/\">News &amp; Events</a></li>\\t\\t\\t\\t\\r\\n\\t\\t\\t<li><a href=\"/about/partnerships/\">Partnerships</a></li>\\t\\r\\n\\t\\t\\t</ul>\\t\\t\\t\\t\\r\\n\\t\\t</div>\\r\\n\\r\\n</nav>\\r\\n<nav class=\"legal limited-width clearfloat\">\\r\\n\\t\\t<a href=\"/terms/\">&copy; Vocabulary.com</a>\\r\\n\\t\\t<a href=\"/terms/\" class=\"screen-only\">Terms of Use</a>\\r\\n\\t\\t<a href=\"/privacy/\" class=\"screen-only\">Privacy Policy</a>\\r\\n\\t\\t\\r\\n\\t\\t<a href=\"/auth/admin\" rel=\"nofollow\" style=\"position: absolute; top: 0px; left: -1000px; width:1px;height:1px\"><img src=\"//cdn.vocab.com/images/clear-16y9b5d.gif\" ></a>\\r\\n</nav></footer>\\r\\n\\r\\n<nav class=\"sitemap screen-only\">\\r\\n<div class=\"scrollable\">\\r\\n<div>\\r\\n\\t<div class=\"limited-width mobile-5050 pad2y\">\\r\\n\\t\\r\\n\\t<div class=\"col9\">\\r\\n\\t\\t<div class=\"col4 pad1x\">\\r\\n\\t\\t\\t<h3>For Everyone</h3>\\r\\n\\t\\t\\t<ul>\\r\\n\\t\\t\\t<li><a href=\"/play/\">Play the Challenge</a></li>\\r\\n\\t\\t\\t<li><a href=\"/lists/\">Vocabulary Lists</a></li>\\r\\n\\t\\t\\t<li><a href=\"/dictionary/\">Dictionary</a></li>\\t\\t\\t\\t\\r\\n\\t\\t\\t<li><a href=\"/articles/chooseyourwords/\">Choose Your Words</a></li>\\t\\t\\t\\r\\n\\t\\t\\t</ul>\\t\\t\\t\\t\\r\\n\\t\\t</div>\\r\\n\\t\\t\\t\\r\\n\\t\\t<div class=\"col4 pad1x\">\\r\\n\\t\\t\\t<h3><a href=\"/educator-edition/\">For Educators</a></h3>\\r\\n\\t\\t\\t<ul>\\r\\n\\t\\t\\t<li><a href=\"/educator-edition/\">Educator Edition</a></li>\\t\\t\\r\\n\\t\\t\\t<li><a href=\"/educator-edition/pricing/\">Plans &amp; Pricing</a></li>\\r\\n\\t\\t\\t<li><a href=\"/educator-edition/sales/\">Contact Sales</a></li>\\r\\n\\t\\t\\t<li><a href=\"/educator-edition/success-stories/\">Success Stories</a></li> \\r\\n\\t\\t\\t</ul>\\t\\t\\t\\t\\r\\n\\t\\t</div>\\r\\n\\t\\t\\r\\n\\t\\t<div class=\"col4 pad1x\">\\r\\n\\t\\t\\t<h3><a href=\"/help/\">Help</a></h3>\\r\\n\\t\\t\\t<ul>\\r\\n\\t\\t\\t<li><a href=\"/help/\">Help Articles / FAQ</a></li>\\t\\t\\t\\r\\n\\t\\t\\t<li><a href=\"/help/videos/\">How-to Videos</a></li>\\r\\n\\t\\t\\t<li><a href=\"/help/webinars\">Training &amp; Webinars</a></li>\\t\\r\\n\\t\\t\\t<li><a href=\"/help/contactus\">Contact Support</a></li>\\t\\r\\n\\t\\t\\t<li><a>&nbsp;</a></li>\\t\\r\\n\\t\\t\\t</ul>\\t\\t\\t\\t\\r\\n\\t\\t</div>\\r\\n\\t\\t\\t\\t\\t\\r\\n\\t\\t<div class=\"col4 pad1x\">\\r\\n\\t\\t\\t<h3><a href=\"/leaderboards/\">Leaderboards</a></h3>\\r\\n\\t\\t\\t<ul>\\r\\n\\t\\t\\t<li><a href=\"/bowl/\">Vocabulary Bowl</a></li>\\t\\r\\n\\t\\t\\t<li><a href=\"/leaderboards/bowl/\">Bowl Leaders</a></li>\\t\\t\\r\\n\\t\\t\\t<li><a href=\"/leaderboards/today/\">Today\\'s Leaders</a></li>\\r\\n\\t\\t\\t<li><a href=\"/leaderboards/thisweek/\">Weekly Leaders</a></li>\\r\\n\\t\\t\\t<li><a href=\"/leaderboards/thismonth/\">Monthly Leaders</a></li>\\t\\t\\t\\t\\t\\t\\r\\n\\t\\t\\t</ul>\\t\\t\\t\\t\\t\\t\\r\\n\\t\\t</div>\\t\\r\\n\\t\\t\\r\\n\\t\\t<div class=\"col4 pad1x\">\\r\\n\\t\\t\\t<h3><a href=\"/blog/\">Connect</a></h3>\\r\\n\\t\\t\\t<ul>\\r\\n\\t\\t\\t<li><a href=\"/blog/\">Vocabulary.com Blog</a></li>\\r\\n\\t\\t\\t<li><a href=\"https://twitter.com/VocabularyCom\">Twitter</a></li>\\r\\n\\t\\t\\t<li><a href=\"https://www.facebook.com/vocabularycom\">Facebook</a></li>\\r\\n\\t\\t\\t\\r\\n\\t\\t\\t</ul>\\t\\t\\t\\t\\r\\n\\t\\t</div>\\r\\n\\t\\t\\r\\n\\t\\t<div class=\"col4 pad1x\">\\r\\n\\t\\t\\t<h3><a href=\"/about/\">Our Story</a></h3>\\r\\n\\t\\t\\t<ul>\\r\\n\\t\\t\\t<li><a href=\"/about/\">Our Mission</a></li>\\r\\n\\t\\t\\t<li><a href=\"/about/team/\">Team / Jobs</a></li>\\r\\n\\t\\t\\t<li><a href=\"/about/news/\">News &amp; Events</a></li>\\t\\t\\t\\t\\r\\n\\t\\t\\t<li><a href=\"/about/partnerships/\">Partnerships</a></li>\\t\\r\\n\\t\\t\\t</ul>\\t\\t\\t\\t\\r\\n\\t\\t</div>\\r\\n\\t</div>\\r\\n\\t<div class=\"col3 pad1x\">\\r\\n\\t\\t<h3><a href=\"/account/\">My Account</a></h3>\\r\\n\\t\\t<div class=\"loggedout-only clearfloat signinoptions\">\\r\\n\\t\\t\\t<a role=\"button\" class=\"google button\" href=\"/login/google\">Sign in with Google</a>\\t\\t\\t\\r\\n\\t\\t\\t<a role=\"button\" class=\"facebook button\" href=\"/login/facebook\">Sign in with Facebook</a>\\t\\r\\n\\t\\t\\t<p>or, <a href=\"/login/\">sign in with email.</a></p>\\r\\n\\t\\t\\t<p>Don\\'t have an account yet?<br>\\r\\n\\t\\t\\t   <a href=\"/signup\">Sign up. It\\'s free and takes five seconds.</a>\\r\\n\\t\\t\\t</p>\\t\\t\\t\\t\\t\\t\\t\\r\\n\\t\\t</div>\\r\\n\\t\\t<ul class=\"loggedin-only\">\\r\\n\\t\\t\\t<li><a href=\"/auth/logout\"><i class=\"ss-logout\"></i>Log Out</a></li>\\r\\n\\t\\t\\t<li class=\"perms-school-reports-only\"><a href=\"/account/schools\"><i class=\"ss-school ss-symbolicons-block\"></i>Schools &amp; Teachers</a></li>\\r\\n\\t\\t\\t\\r\\n\\t\\t\\t<li class=\"nav-classes perms-create-class-only\"><a href=\"/account/classes\"><i class=\"ss-users\"></i>My Classes</a></li>\\r\\n\\t\\t\\t\\r\\n\\t\\t\\t<li class=\"nav-assignments\"><a href=\"/account/activities/\"><i class=\"ss-attach\"></i>Assignments &amp; Activities</a></li>\\r\\n\\t\\t\\t<li ><a href=\"/account/lists/\"><i class=\"ss-list\"></i>My Lists</a>\\r\\n\\t\\t\\t<ul>\\r\\n\\t\\t\\t\\t<li><a href=\"/lists/\"><i class=\"ss-search\"></i>Find a List to Learn...</a></li>\\r\\n\\t\\t\\t\\t<li><a href=\"/lists/new\"><i class=\"ss-hospital ss-symbolicons-block\"></i>Create a New List...</a></li>\\r\\n\\t\\t\\t</ul>\\r\\n\\t\\t\\t</li>\\r\\n\\t\\t\\t<li><a href=\"/progress/\"><i class=\"ss-barchart\"></i>My Progress</a>\\r\\n\\t\\t\\t\\t<ul>\\r\\n\\t\\t\\t\\t\\t<li><a href=\"/account/progress/words/learning\"><i class=\"ss-hiker ss-symbolicons-block\"></i>Words I\\'m Learning</a></li>\\r\\n\\t\\t\\t\\t\\t<li><a href=\"/account/progress/words/trouble\"><i class=\"ss-bullseye ss-symbolicons-block\"></i>My Trouble Words</a></li>\\r\\n\\t\\t\\t\\t\\t<li><a href=\"/account/progress/words/mastered\"><i class=\"ss-check ss-symbolicons-block\"></i>Words I\\'ve Mastered</a></li>\\r\\n\\t\\t\\t\\t\\t<li><a href=\"/account/progress/achievements\"><i class=\"ss-award ss-symbolicons-block\"></i>My Achievements</a></li>\\r\\n\\t\\t\\t\\t</ul>\\r\\n\\t\\t\\t</li>\\t\\r\\n\\t\\t\\t<li class=\"perms-user-admin-only\"><a href=\"/account/users\"><i class=\"ss-usergroup ss-symbolicons-block \"></i>User Administration</a></li>\\r\\n\\t\\t\\t<li class=\"perms-auth-admin-only\"><a href=\"/account/authentication\"><i class=\"ss-key\"></i>User Authentication</a></li>\\r\\n\\t\\t\\t<li>\\r\\n\\t\\t\\t\\t<a href=\"/account/\"><i class=\"ss-settings\"></i>My Account</a>\\t\\t\\t\\r\\n\\t\\t\\t</li>\\r\\n\\t\\t</ul>\\r\\n\\t</div>\\r\\n\\t</div>\\t\\t\\r\\n\\t<div class=\"copyright pad2y\">\\t\\t\\t\\t\\r\\n\\t\\t<div class=\"limited-width\">\\r\\n\\t\\t<span>&copy; Vocabulary.com</span>\\t\\t\\t\\r\\n\\t\\t<div class=\"terms\">\\r\\n\\t\\t<a href=\"/terms/\">Terms of Use</a>\\r\\n\\t\\t<a href=\"/privacy/\">Privacy Policy</a>\\t\\t\\r\\n\\t\\t</div>\\r\\n\\t\\t</div>\\r\\n\\t</div>\\t\\r\\n</div></div>\\r\\n<div class=\"nub\"></div>\\t\\t\\t\\t\\r\\n</nav>\\r\\n</div>\\r\\n\\r\\n\\r\\n\\r\\n\\r\\n</body>\\r\\n\\r\\n</html>\\r\\n'\n"
     ]
    }
   ],
   "source": [
    "url = 'https://www.vocabulary.com/dictionary/abhor'\n",
    "source = urllib.request.urlopen(url).read()\n",
    "print (source)\n"
   ]
  },
  {
   "cell_type": "code",
   "execution_count": 8,
   "metadata": {},
   "outputs": [
    {
     "name": "stderr",
     "output_type": "stream",
     "text": [
      "/Users/ayush/anaconda3/lib/python3.6/site-packages/bs4/__init__.py:181: UserWarning: No parser was explicitly specified, so I'm using the best available HTML parser for this system (\"lxml\"). This usually isn't a problem, but if you run this code on another system, or in a different virtual environment, it may use a different parser and behave differently.\n",
      "\n",
      "The code that caused this warning is on line 193 of the file /Users/ayush/anaconda3/lib/python3.6/runpy.py. To get rid of this warning, change code that looks like this:\n",
      "\n",
      " BeautifulSoup(YOUR_MARKUP})\n",
      "\n",
      "to this:\n",
      "\n",
      " BeautifulSoup(YOUR_MARKUP, \"lxml\")\n",
      "\n",
      "  markup_type=markup_type))\n"
     ]
    },
    {
     "data": {
      "text/plain": [
       "[<p class=\"short\">If you <i>abhor</i> something, it gives you a feeling of complete hatred. Chances are you <i>abhor</i> that kid who used to torture the frogs in biology class.</p>,\n",
       " <p class=\"long\"><i>Abhor</i> is from Latin <i>abhorrere</i> â€” \"to shrink back in horror.\" It is the strongest way in English to express hatred, even stronger than <i>loathe</i>. We only use abhor in formal contexts; you might say \"I abhor that man,\" but you would be less likely to say \"I abhor spinach\" unless you tend to express yourself in highfalutin terms no matter what the occasion.</p>,\n",
       " <p>\n",
       " \t\tWhether you're a student, an educator, or a lifelong learner, Vocabulary.com can put you\n",
       " \t\ton the path to systematic vocabulary improvement. <br/>\n",
       " </p>,\n",
       " <p>or, <a href=\"/login/\">sign in with email.</a></p>,\n",
       " <p>Don't have an account yet?<br/>\n",
       " <a href=\"/signup\">Sign up. It's free and takes five seconds.</a>\n",
       " </p>]"
      ]
     },
     "execution_count": 8,
     "metadata": {},
     "output_type": "execute_result"
    }
   ],
   "source": [
    "soup = bs4.BeautifulSoup(source)\n",
    "soup.findAll('p')"
   ]
  },
  {
   "cell_type": "code",
   "execution_count": null,
   "metadata": {},
   "outputs": [],
   "source": []
  }
 ],
 "metadata": {
  "kernelspec": {
   "display_name": "Python 3",
   "language": "python",
   "name": "python3"
  },
  "language_info": {
   "codemirror_mode": {
    "name": "ipython",
    "version": 3
   },
   "file_extension": ".py",
   "mimetype": "text/x-python",
   "name": "python",
   "nbconvert_exporter": "python",
   "pygments_lexer": "ipython3",
   "version": "3.6.5"
  }
 },
 "nbformat": 4,
 "nbformat_minor": 2
}
